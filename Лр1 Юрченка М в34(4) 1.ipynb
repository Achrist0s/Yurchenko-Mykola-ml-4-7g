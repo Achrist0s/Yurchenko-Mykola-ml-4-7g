{
  "cells": [
    {
      "cell_type": "markdown",
      "source": [
        "Лабораторна робота №1.Юрченка М.С. Варіант 34(4)"
      ],
      "metadata": {
        "id": "LZE5h0m8cvAJ"
      }
    },
    {
      "cell_type": "code",
      "source": [
        "# Завдання 1: Створити одновимірний масив з непарними числами від 1 до 19 та вивести його значення\n",
        "\n",
        "import numpy as np\n",
        "odd_numbers = np.arange(1, 20, 2)\n",
        "odd_numbers\n"
      ],
      "metadata": {
        "id": "3mOzesG3e8a6",
        "outputId": "e5628f28-bbbe-4438-d5f5-9934a58a37c9",
        "colab": {
          "base_uri": "https://localhost:8080/"
        }
      },
      "execution_count": null,
      "outputs": [
        {
          "output_type": "execute_result",
          "data": {
            "text/plain": [
              "array([ 1,  3,  5,  7,  9, 11, 13, 15, 17, 19])"
            ]
          },
          "metadata": {},
          "execution_count": 1
        }
      ]
    },
    {
      "cell_type": "code",
      "source": [
        "# Завдання 2: Створити двовимірний масив розміром 3x3, заповнити його послідовністю чисел, де кожне наступне число більше попереднього на 2, та вивести його значення\n",
        "\n",
        "import numpy as np\n",
        "sequence = np.arange(1, 19, 2)\n",
        "matrix = sequence.reshape(3, 3)\n",
        "matrix\n"
      ],
      "metadata": {
        "id": "FegLi74Xga-5",
        "outputId": "31398a2c-c13b-4729-f1c7-38115922b460",
        "colab": {
          "base_uri": "https://localhost:8080/"
        }
      },
      "execution_count": null,
      "outputs": [
        {
          "output_type": "execute_result",
          "data": {
            "text/plain": [
              "array([[ 1,  3,  5],\n",
              "       [ 7,  9, 11],\n",
              "       [13, 15, 17]])"
            ]
          },
          "metadata": {},
          "execution_count": 2
        }
      ]
    },
    {
      "cell_type": "code",
      "source": [
        "# Завдання 3: Створити масив розміром 2x2, заповнити його випадковими цілими числами від -5 до 5 та вивести його значення\n",
        "\n",
        "import numpy as np\n",
        "random_matrix = np.random.randint(-5, 6, size=(2, 2))\n",
        "random_matrix\n"
      ],
      "metadata": {
        "id": "6gEePXjLg7Tn",
        "outputId": "7dcad4ce-c70b-4772-9ae1-212b6bc1b1c1",
        "colab": {
          "base_uri": "https://localhost:8080/"
        }
      },
      "execution_count": null,
      "outputs": [
        {
          "output_type": "execute_result",
          "data": {
            "text/plain": [
              "array([[-3,  1],\n",
              "       [-4,  2]])"
            ]
          },
          "metadata": {},
          "execution_count": 3
        }
      ]
    },
    {
      "cell_type": "code",
      "source": [
        "# Завдання 4: Створити масив розміром 6x6, заповнити його випадковими дійсними числами в діапазоні від 0 до 1 та знайти максимальний елемент\n",
        "\n",
        "import numpy as np\n",
        "random_matrix = np.random.rand(6, 6)\n",
        "max_element = np.max(random_matrix)\n",
        "random_matrix, max_element\n"
      ],
      "metadata": {
        "id": "Pjznypinhmf8",
        "outputId": "093d285a-bd4e-403b-f6c3-3979d52c7ac0",
        "colab": {
          "base_uri": "https://localhost:8080/"
        }
      },
      "execution_count": null,
      "outputs": [
        {
          "output_type": "execute_result",
          "data": {
            "text/plain": [
              "(array([[0.23809945, 0.30234562, 0.90044907, 0.10437884, 0.67971345,\n",
              "         0.79617336],\n",
              "        [0.74865596, 0.19768683, 0.47311389, 0.93086281, 0.7026322 ,\n",
              "         0.34711477],\n",
              "        [0.47662646, 0.44550097, 0.70929715, 0.20427597, 0.35049018,\n",
              "         0.08266331],\n",
              "        [0.69693538, 0.84170202, 0.34227277, 0.7268318 , 0.09590745,\n",
              "         0.27702311],\n",
              "        [0.12967069, 0.25309648, 0.15837971, 0.47701822, 0.6105805 ,\n",
              "         0.67073698],\n",
              "        [0.18428159, 0.71469018, 0.08060988, 0.12443087, 0.07323951,\n",
              "         0.25536822]]),\n",
              " 0.9308628107389143)"
            ]
          },
          "metadata": {},
          "execution_count": 4
        }
      ]
    },
    {
      "cell_type": "code",
      "source": [
        "# Завдання 5: Створити два одновимірних масиви розміром 4, заповнити їх випадковими цілими числами в діапазоні від -5 до 5 та виконати на них поелементні операції додавання, віднімання та множення\n",
        "\n",
        "import numpy as np\n",
        "array1 = np.random.randint(-5, 6, size=4)\n",
        "array2 = np.random.randint(-5, 6, size=4)\n",
        "addition_result = array1 + array2\n",
        "subtraction_result = array1 - array2\n",
        "multiplication_result = array1 * array2\n",
        "array1, array2, addition_result, subtraction_result, multiplication_result\n"
      ],
      "metadata": {
        "id": "34vRfIlpiCqs",
        "outputId": "9e253cbb-26b2-43da-97c1-01a79f714480",
        "colab": {
          "base_uri": "https://localhost:8080/"
        }
      },
      "execution_count": null,
      "outputs": [
        {
          "output_type": "execute_result",
          "data": {
            "text/plain": [
              "(array([-5,  3,  3,  3]),\n",
              " array([ 3, -1, -5, -2]),\n",
              " array([-2,  2, -2,  1]),\n",
              " array([-8,  4,  8,  5]),\n",
              " array([-15,  -3, -15,  -6]))"
            ]
          },
          "metadata": {},
          "execution_count": 5
        }
      ]
    },
    {
      "cell_type": "code",
      "source": [
        "# Завдання 6: Створити дві матриці 2x2, заповнити їх довільними дійсними числами від 5 до 10 та знайти їх добуток\n",
        "\n",
        "import numpy as np\n",
        "matrix1 = 5 + np.random.rand(2, 2) * 5\n",
        "matrix2 = 5 + np.random.rand(2, 2) * 5\n",
        "product_matrix = np.dot(matrix1, matrix2)\n",
        "matrix1, matrix2, product_matrix\n"
      ],
      "metadata": {
        "id": "V7jlKDU-iJrj",
        "outputId": "314eeb94-9a68-4cd3-d414-dccebc596125",
        "colab": {
          "base_uri": "https://localhost:8080/"
        }
      },
      "execution_count": null,
      "outputs": [
        {
          "output_type": "execute_result",
          "data": {
            "text/plain": [
              "(array([[7.41936291, 9.04065422],\n",
              "        [9.0028359 , 8.58350574]]),\n",
              " array([[5.42369403, 8.60164501],\n",
              "        [8.85666379, 7.34558444]]),\n",
              " array([[120.31038918, 130.22761493],\n",
              "        [124.84985181, 140.49006474]]))"
            ]
          },
          "metadata": {},
          "execution_count": 6
        }
      ]
    },
    {
      "cell_type": "code",
      "source": [
        "# Завдання 7: Створити дві матриці розміром 2x3 та 3x3, заповнити їх випадковими цілими числами в діапазоні від 1 до 5 та перемножити їх між собою\n",
        "\n",
        "import numpy as np\n",
        "matrix1 = np.random.randint(1, 6, size=(2, 3))\n",
        "matrix2 = np.random.randint(1, 6, size=(3, 3))\n",
        "product_matrix = np.dot(matrix1, matrix2)\n",
        "matrix1, matrix2, product_matrix\n"
      ],
      "metadata": {
        "id": "nxw2WcClilAP",
        "outputId": "61bfad4a-e76d-4013-ebdc-0f3716eecd37",
        "colab": {
          "base_uri": "https://localhost:8080/"
        }
      },
      "execution_count": null,
      "outputs": [
        {
          "output_type": "execute_result",
          "data": {
            "text/plain": [
              "(array([[5, 1, 5],\n",
              "        [1, 4, 2]]),\n",
              " array([[5, 1, 5],\n",
              "        [4, 3, 2],\n",
              "        [3, 3, 3]]),\n",
              " array([[44, 23, 42],\n",
              "        [27, 19, 19]]))"
            ]
          },
          "metadata": {},
          "execution_count": 7
        }
      ]
    },
    {
      "cell_type": "code",
      "source": [
        "# Завдання 8: Створити матрицю розміром 3x3, заповнити її випадковими цілими числами в діапазоні від 1 до 15 та знайти її обернену матрицю\n",
        "\n",
        "import numpy as np\n",
        "matrix = np.random.randint(1, 16, size=(3, 3))\n",
        "if np.linalg.det(matrix) != 0:\n",
        "    inverse_matrix = np.linalg.inv(matrix)\n",
        "else:\n",
        "    inverse_matrix = \"Обернена матриця не існує, оскільки визначник дорівнює нулю.\"\n",
        "matrix, inverse_matrix\n"
      ],
      "metadata": {
        "id": "1pZt6zwiirEN",
        "outputId": "0bc624b4-32fa-46e6-aa3d-9b6ca524909c",
        "colab": {
          "base_uri": "https://localhost:8080/"
        }
      },
      "execution_count": null,
      "outputs": [
        {
          "output_type": "execute_result",
          "data": {
            "text/plain": [
              "(array([[ 7, 14, 11],\n",
              "        [12,  3,  8],\n",
              "        [ 9,  9,  4]]),\n",
              " array([[-0.07434944,  0.05328377,  0.09789343],\n",
              "        [ 0.02973978, -0.08798017,  0.09417596],\n",
              "        [ 0.10037175,  0.07806691, -0.18215613]]))"
            ]
          },
          "metadata": {},
          "execution_count": 8
        }
      ]
    },
    {
      "cell_type": "code",
      "source": [
        "# Завдання 9: Створити матрицю розміром 7x4, заповнити її випадковими дійсними числами в діапазоні від 0 до 1 та транспонувати її\n",
        "\n",
        "import numpy as np\n",
        "matrix = np.random.rand(7, 4)\n",
        "transposed_matrix = matrix.T\n",
        "matrix, transposed_matrix\n"
      ],
      "metadata": {
        "id": "uB-UvUlKi6T2",
        "outputId": "23a48717-3321-4f2a-86da-4c2625c1898c",
        "colab": {
          "base_uri": "https://localhost:8080/"
        }
      },
      "execution_count": null,
      "outputs": [
        {
          "output_type": "execute_result",
          "data": {
            "text/plain": [
              "(array([[0.82124609, 0.61141756, 0.6232486 , 0.64177666],\n",
              "        [0.32925425, 0.13393643, 0.19419607, 0.14796019],\n",
              "        [0.72243725, 0.65111796, 0.36714237, 0.10051912],\n",
              "        [0.28795095, 0.21110279, 0.93403278, 0.33683504],\n",
              "        [0.49182587, 0.84505427, 0.86119188, 0.70037069],\n",
              "        [0.66995527, 0.54784161, 0.68881441, 0.54034997],\n",
              "        [0.52834023, 0.28222426, 0.14169406, 0.25791515]]),\n",
              " array([[0.82124609, 0.32925425, 0.72243725, 0.28795095, 0.49182587,\n",
              "         0.66995527, 0.52834023],\n",
              "        [0.61141756, 0.13393643, 0.65111796, 0.21110279, 0.84505427,\n",
              "         0.54784161, 0.28222426],\n",
              "        [0.6232486 , 0.19419607, 0.36714237, 0.93403278, 0.86119188,\n",
              "         0.68881441, 0.14169406],\n",
              "        [0.64177666, 0.14796019, 0.10051912, 0.33683504, 0.70037069,\n",
              "         0.54034997, 0.25791515]]))"
            ]
          },
          "metadata": {},
          "execution_count": 9
        }
      ]
    },
    {
      "cell_type": "code",
      "source": [
        "# Завдання 10: Створити матрицю розміром 3x4 та вектор розміром 4x1, заповнити матрицю випадковими цілими числами в діапазоні від 1 до 10, а вектор - випадковими дійсними числами від 0 до 1, і знайти добуток матриці на вектор\n",
        "\n",
        "import numpy as np\n",
        "matrix = np.random.randint(1, 11, size=(3, 4))\n",
        "vector = np.random.rand(4, 1)\n",
        "product_result = np.dot(matrix, vector)\n",
        "matrix, vector, product_result\n"
      ],
      "metadata": {
        "id": "f7nWzzh5jQIE",
        "outputId": "fc7356a9-5201-4c9b-cc8a-2c62abef77c6",
        "colab": {
          "base_uri": "https://localhost:8080/"
        }
      },
      "execution_count": null,
      "outputs": [
        {
          "output_type": "execute_result",
          "data": {
            "text/plain": [
              "(array([[ 4,  3,  7,  5],\n",
              "        [ 2,  5,  2, 10],\n",
              "        [10,  3,  6,  3]]),\n",
              " array([[0.21062718],\n",
              "        [0.48853264],\n",
              "        [0.52107991],\n",
              "        [0.9034924 ]]),\n",
              " array([[10.47312802],\n",
              "        [12.94100137],\n",
              "        [ 9.40882638]]))"
            ]
          },
          "metadata": {},
          "execution_count": 10
        }
      ]
    },
    {
      "cell_type": "code",
      "source": [
        "# Завдання 11: Створити матрицю розміром 2x3 та вектор розміром 3x1, заповнити матрицю випадковими дійсними числами від 0 до 1, а вектор - випадковими дійсними числами від 0 до 1, і знайти добуток матриці на вектор\n",
        "\n",
        "import numpy as np\n",
        "matrix = np.random.rand(2, 3)\n",
        "vector = np.random.rand(3, 1)\n",
        "product_result = np.dot(matrix, vector)\n",
        "matrix, vector, product_result\n"
      ],
      "metadata": {
        "id": "OLG2DgPJkEzk",
        "outputId": "2e66ee8a-70be-4836-8a21-5ede34412f1f",
        "colab": {
          "base_uri": "https://localhost:8080/"
        }
      },
      "execution_count": null,
      "outputs": [
        {
          "output_type": "execute_result",
          "data": {
            "text/plain": [
              "(array([[0.57568248, 0.13777184, 0.04390743],\n",
              "        [0.770481  , 0.53296333, 0.24337866]]),\n",
              " array([[0.10463798],\n",
              "        [0.27237496],\n",
              "        [0.66579425]]),\n",
              " array([[0.12699716],\n",
              "        [0.38782755]]))"
            ]
          },
          "metadata": {},
          "execution_count": 11
        }
      ]
    },
    {
      "cell_type": "code",
      "source": [
        "# Завдання 12: Створити дві матриці розміром 5x5, заповнити їх випадковими цілими числами в діапазоні від 1 до 10 та знайти відношення першої матриці до другої (поелементне ділення)\n",
        "\n",
        "import numpy as np\n",
        "matrix1 = np.random.randint(1, 11, size=(5, 5))\n",
        "matrix2 = np.random.randint(1, 11, size=(5, 5))\n",
        "elementwise_division = matrix1 / (matrix2 + 1e-10)\n",
        "matrix1, matrix2, elementwise_division\n"
      ],
      "metadata": {
        "id": "8y7kO5sKkcL7",
        "outputId": "c6f7bb0c-bef5-4bcb-80ec-6fd11e417dba",
        "colab": {
          "base_uri": "https://localhost:8080/"
        }
      },
      "execution_count": null,
      "outputs": [
        {
          "output_type": "execute_result",
          "data": {
            "text/plain": [
              "(array([[ 1,  5,  8,  8,  1],\n",
              "        [10,  1,  8,  2, 10],\n",
              "        [ 8,  5,  5, 10,  1],\n",
              "        [ 6,  2,  4,  1,  7],\n",
              "        [ 8,  1,  7,  6, 10]]),\n",
              " array([[ 3, 10, 10,  3,  8],\n",
              "        [ 5,  1,  2,  2, 10],\n",
              "        [ 8,  8,  5, 10,  7],\n",
              "        [ 9,  2,  5,  6,  6],\n",
              "        [10,  6,  8,  4, 10]]),\n",
              " array([[0.33333333, 0.5       , 0.8       , 2.66666667, 0.125     ],\n",
              "        [2.        , 1.        , 4.        , 1.        , 1.        ],\n",
              "        [1.        , 0.625     , 1.        , 1.        , 0.14285714],\n",
              "        [0.66666667, 1.        , 0.8       , 0.16666667, 1.16666667],\n",
              "        [0.8       , 0.16666667, 0.875     , 1.5       , 1.        ]]))"
            ]
          },
          "metadata": {},
          "execution_count": 12
        }
      ]
    },
    {
      "cell_type": "code",
      "source": [
        "# Завдання 13: Створити дві матриці розміром 5x5, заповнити їх випадковими цілими числами в діапазоні від 1 до 10 та знайти суму їх елементів\n",
        "\n",
        "import numpy as np\n",
        "matrix1 = np.random.randint(1, 11, size=(5, 5))\n",
        "matrix2 = np.random.randint(1, 11, size=(5, 5))\n",
        "sum_matrix1 = np.sum(matrix1)\n",
        "sum_matrix2 = np.sum(matrix2)\n",
        "matrix1, matrix2, sum_matrix1, sum_matrix2\n"
      ],
      "metadata": {
        "id": "R4XqEvSbktIr",
        "outputId": "fc8abc53-d9e0-4baf-d579-aa21e19eb37b",
        "colab": {
          "base_uri": "https://localhost:8080/"
        }
      },
      "execution_count": null,
      "outputs": [
        {
          "output_type": "execute_result",
          "data": {
            "text/plain": [
              "(array([[ 5,  2,  4,  4,  7],\n",
              "        [ 2, 10,  1,  4,  8],\n",
              "        [ 6,  3,  6,  7,  7],\n",
              "        [ 4,  7,  5,  3,  9],\n",
              "        [ 8,  8,  1,  6,  5]]),\n",
              " array([[ 8,  6,  2,  2,  9],\n",
              "        [ 2,  6,  8,  8, 10],\n",
              "        [ 3,  1,  9,  4,  9],\n",
              "        [ 8,  9, 10, 10,  8],\n",
              "        [ 2, 10,  8,  8,  7]]),\n",
              " 132,\n",
              " 167)"
            ]
          },
          "metadata": {},
          "execution_count": 13
        }
      ]
    },
    {
      "cell_type": "code",
      "source": [
        "# Завдання 14: Створити матрицю розміром 3x3, заповнити її випадковими цілими числами в діапазоні від 1 до 10 та знайти добуток елементів матриці\n",
        "\n",
        "import numpy as np\n",
        "matrix = np.random.randint(1, 11, size=(3, 3))\n",
        "product_elements = np.prod(matrix)\n",
        "matrix, product_elements\n"
      ],
      "metadata": {
        "id": "uGvFAEdak_eD",
        "outputId": "7a26a206-5a33-40fb-87b2-1ca2575a45d4",
        "colab": {
          "base_uri": "https://localhost:8080/"
        }
      },
      "execution_count": null,
      "outputs": [
        {
          "output_type": "execute_result",
          "data": {
            "text/plain": [
              "(array([[ 7,  5,  5],\n",
              "        [ 5,  4, 10],\n",
              "        [ 6,  7,  6]]),\n",
              " 8820000)"
            ]
          },
          "metadata": {},
          "execution_count": 14
        }
      ]
    },
    {
      "cell_type": "code",
      "source": [
        "# Завдання 15: Створити матрицю розміром 6x6, заповнити її випадковими дійсними числами в діапазоні від -2 до 2 та знайти вектор-стовпчик, що містить середнє арифметичне значення елементів кожного рядка матриці\n",
        "\n",
        "import numpy as np\n",
        "matrix = -2 + np.random.rand(6, 6) * 4\n",
        "mean_vector = np.mean(matrix, axis=1).reshape(-1, 1)\n",
        "matrix, mean_vector\n"
      ],
      "metadata": {
        "id": "Y_mdAqx4lNrC",
        "outputId": "ec05a6a3-f504-4f01-a6e9-d19fa4f7d9f7",
        "colab": {
          "base_uri": "https://localhost:8080/"
        }
      },
      "execution_count": null,
      "outputs": [
        {
          "output_type": "execute_result",
          "data": {
            "text/plain": [
              "(array([[ 0.05955917,  1.13259908, -1.25740205, -0.42831307, -0.32073436,\n",
              "          0.09774092],\n",
              "        [ 0.89244517,  0.65375186, -1.96370712, -1.13282138,  0.03935869,\n",
              "          0.90088102],\n",
              "        [-0.82715405, -0.98270639,  0.56951015,  0.16305686,  0.03147577,\n",
              "         -0.5210483 ],\n",
              "        [-1.30127019, -0.88899818,  1.33813976,  1.5356474 , -0.48296678,\n",
              "         -1.2355077 ],\n",
              "        [-0.7214629 ,  0.36684095, -0.06555678, -1.50774782, -0.60617947,\n",
              "         -1.72909092],\n",
              "        [ 1.48846802, -0.74252602, -1.89757196,  1.63839809,  1.73992929,\n",
              "         -1.91211405]]),\n",
              " array([[-0.11942505],\n",
              "        [-0.10168196],\n",
              "        [-0.26114433],\n",
              "        [-0.17249262],\n",
              "        [-0.71053282],\n",
              "        [ 0.05243056]]))"
            ]
          },
          "metadata": {},
          "execution_count": 15
        }
      ]
    },
    {
      "cell_type": "markdown",
      "source": [
        "Висновки: виконавши 15 завдань з вступ до машинного навчання.Елементи лінійної алгебри. Навчився створювати матриці."
      ],
      "metadata": {
        "id": "IZ9dmBXvriGf"
      }
    }
  ],
  "metadata": {
    "colab": {
      "provenance": []
    },
    "kernelspec": {
      "display_name": "Python 3",
      "name": "python3"
    }
  },
  "nbformat": 4,
  "nbformat_minor": 0
}